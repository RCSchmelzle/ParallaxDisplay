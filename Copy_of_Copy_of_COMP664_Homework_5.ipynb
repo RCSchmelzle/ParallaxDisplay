{
  "nbformat": 4,
  "nbformat_minor": 0,
  "metadata": {
    "colab": {
      "provenance": [],
      "include_colab_link": true
    },
    "kernelspec": {
      "name": "python3",
      "display_name": "Python 3"
    },
    "widgets": {
      "application/vnd.jupyter.widget-state+json": {
        "b98c5f11cccc4305ba21ccd122ebd946": {
          "model_module": "@jupyter-widgets/controls",
          "model_name": "HBoxModel",
          "model_module_version": "1.5.0",
          "state": {
            "_dom_classes": [],
            "_model_module": "@jupyter-widgets/controls",
            "_model_module_version": "1.5.0",
            "_model_name": "HBoxModel",
            "_view_count": null,
            "_view_module": "@jupyter-widgets/controls",
            "_view_module_version": "1.5.0",
            "_view_name": "HBoxView",
            "box_style": "",
            "children": [
              "IPY_MODEL_d9e65d6eefbd432db6f69b728f0fb7de",
              "IPY_MODEL_7f7d20b8b1ef49beb8ee49526505dd2d",
              "IPY_MODEL_0f15229c99694617b60fab8204841514"
            ],
            "layout": "IPY_MODEL_5a149186cd3e4b6a9eb9f4d2e333510e"
          }
        },
        "d9e65d6eefbd432db6f69b728f0fb7de": {
          "model_module": "@jupyter-widgets/controls",
          "model_name": "HTMLModel",
          "model_module_version": "1.5.0",
          "state": {
            "_dom_classes": [],
            "_model_module": "@jupyter-widgets/controls",
            "_model_module_version": "1.5.0",
            "_model_name": "HTMLModel",
            "_view_count": null,
            "_view_module": "@jupyter-widgets/controls",
            "_view_module_version": "1.5.0",
            "_view_name": "HTMLView",
            "description": "",
            "description_tooltip": null,
            "layout": "IPY_MODEL_7b27d0b95bc64c4ebafe9cdb72c1d198",
            "placeholder": "​",
            "style": "IPY_MODEL_944a368b713942eba3b49a11eff68c7c",
            "value": "100%"
          }
        },
        "7f7d20b8b1ef49beb8ee49526505dd2d": {
          "model_module": "@jupyter-widgets/controls",
          "model_name": "FloatProgressModel",
          "model_module_version": "1.5.0",
          "state": {
            "_dom_classes": [],
            "_model_module": "@jupyter-widgets/controls",
            "_model_module_version": "1.5.0",
            "_model_name": "FloatProgressModel",
            "_view_count": null,
            "_view_module": "@jupyter-widgets/controls",
            "_view_module_version": "1.5.0",
            "_view_name": "ProgressView",
            "bar_style": "success",
            "description": "",
            "description_tooltip": null,
            "layout": "IPY_MODEL_978c5a7621694edb98d1d51e88a86483",
            "max": 170498071,
            "min": 0,
            "orientation": "horizontal",
            "style": "IPY_MODEL_5cfd1562db7c488fa369e111cfb91ace",
            "value": 170498071
          }
        },
        "0f15229c99694617b60fab8204841514": {
          "model_module": "@jupyter-widgets/controls",
          "model_name": "HTMLModel",
          "model_module_version": "1.5.0",
          "state": {
            "_dom_classes": [],
            "_model_module": "@jupyter-widgets/controls",
            "_model_module_version": "1.5.0",
            "_model_name": "HTMLModel",
            "_view_count": null,
            "_view_module": "@jupyter-widgets/controls",
            "_view_module_version": "1.5.0",
            "_view_name": "HTMLView",
            "description": "",
            "description_tooltip": null,
            "layout": "IPY_MODEL_7f7861f431cb46689145cb2a68be849e",
            "placeholder": "​",
            "style": "IPY_MODEL_f6303c906d8c47509297cc8882225020",
            "value": " 170498071/170498071 [00:02&lt;00:00, 76374785.40it/s]"
          }
        },
        "5a149186cd3e4b6a9eb9f4d2e333510e": {
          "model_module": "@jupyter-widgets/base",
          "model_name": "LayoutModel",
          "model_module_version": "1.2.0",
          "state": {
            "_model_module": "@jupyter-widgets/base",
            "_model_module_version": "1.2.0",
            "_model_name": "LayoutModel",
            "_view_count": null,
            "_view_module": "@jupyter-widgets/base",
            "_view_module_version": "1.2.0",
            "_view_name": "LayoutView",
            "align_content": null,
            "align_items": null,
            "align_self": null,
            "border": null,
            "bottom": null,
            "display": null,
            "flex": null,
            "flex_flow": null,
            "grid_area": null,
            "grid_auto_columns": null,
            "grid_auto_flow": null,
            "grid_auto_rows": null,
            "grid_column": null,
            "grid_gap": null,
            "grid_row": null,
            "grid_template_areas": null,
            "grid_template_columns": null,
            "grid_template_rows": null,
            "height": null,
            "justify_content": null,
            "justify_items": null,
            "left": null,
            "margin": null,
            "max_height": null,
            "max_width": null,
            "min_height": null,
            "min_width": null,
            "object_fit": null,
            "object_position": null,
            "order": null,
            "overflow": null,
            "overflow_x": null,
            "overflow_y": null,
            "padding": null,
            "right": null,
            "top": null,
            "visibility": null,
            "width": null
          }
        },
        "7b27d0b95bc64c4ebafe9cdb72c1d198": {
          "model_module": "@jupyter-widgets/base",
          "model_name": "LayoutModel",
          "model_module_version": "1.2.0",
          "state": {
            "_model_module": "@jupyter-widgets/base",
            "_model_module_version": "1.2.0",
            "_model_name": "LayoutModel",
            "_view_count": null,
            "_view_module": "@jupyter-widgets/base",
            "_view_module_version": "1.2.0",
            "_view_name": "LayoutView",
            "align_content": null,
            "align_items": null,
            "align_self": null,
            "border": null,
            "bottom": null,
            "display": null,
            "flex": null,
            "flex_flow": null,
            "grid_area": null,
            "grid_auto_columns": null,
            "grid_auto_flow": null,
            "grid_auto_rows": null,
            "grid_column": null,
            "grid_gap": null,
            "grid_row": null,
            "grid_template_areas": null,
            "grid_template_columns": null,
            "grid_template_rows": null,
            "height": null,
            "justify_content": null,
            "justify_items": null,
            "left": null,
            "margin": null,
            "max_height": null,
            "max_width": null,
            "min_height": null,
            "min_width": null,
            "object_fit": null,
            "object_position": null,
            "order": null,
            "overflow": null,
            "overflow_x": null,
            "overflow_y": null,
            "padding": null,
            "right": null,
            "top": null,
            "visibility": null,
            "width": null
          }
        },
        "944a368b713942eba3b49a11eff68c7c": {
          "model_module": "@jupyter-widgets/controls",
          "model_name": "DescriptionStyleModel",
          "model_module_version": "1.5.0",
          "state": {
            "_model_module": "@jupyter-widgets/controls",
            "_model_module_version": "1.5.0",
            "_model_name": "DescriptionStyleModel",
            "_view_count": null,
            "_view_module": "@jupyter-widgets/base",
            "_view_module_version": "1.2.0",
            "_view_name": "StyleView",
            "description_width": ""
          }
        },
        "978c5a7621694edb98d1d51e88a86483": {
          "model_module": "@jupyter-widgets/base",
          "model_name": "LayoutModel",
          "model_module_version": "1.2.0",
          "state": {
            "_model_module": "@jupyter-widgets/base",
            "_model_module_version": "1.2.0",
            "_model_name": "LayoutModel",
            "_view_count": null,
            "_view_module": "@jupyter-widgets/base",
            "_view_module_version": "1.2.0",
            "_view_name": "LayoutView",
            "align_content": null,
            "align_items": null,
            "align_self": null,
            "border": null,
            "bottom": null,
            "display": null,
            "flex": null,
            "flex_flow": null,
            "grid_area": null,
            "grid_auto_columns": null,
            "grid_auto_flow": null,
            "grid_auto_rows": null,
            "grid_column": null,
            "grid_gap": null,
            "grid_row": null,
            "grid_template_areas": null,
            "grid_template_columns": null,
            "grid_template_rows": null,
            "height": null,
            "justify_content": null,
            "justify_items": null,
            "left": null,
            "margin": null,
            "max_height": null,
            "max_width": null,
            "min_height": null,
            "min_width": null,
            "object_fit": null,
            "object_position": null,
            "order": null,
            "overflow": null,
            "overflow_x": null,
            "overflow_y": null,
            "padding": null,
            "right": null,
            "top": null,
            "visibility": null,
            "width": null
          }
        },
        "5cfd1562db7c488fa369e111cfb91ace": {
          "model_module": "@jupyter-widgets/controls",
          "model_name": "ProgressStyleModel",
          "model_module_version": "1.5.0",
          "state": {
            "_model_module": "@jupyter-widgets/controls",
            "_model_module_version": "1.5.0",
            "_model_name": "ProgressStyleModel",
            "_view_count": null,
            "_view_module": "@jupyter-widgets/base",
            "_view_module_version": "1.2.0",
            "_view_name": "StyleView",
            "bar_color": null,
            "description_width": ""
          }
        },
        "7f7861f431cb46689145cb2a68be849e": {
          "model_module": "@jupyter-widgets/base",
          "model_name": "LayoutModel",
          "model_module_version": "1.2.0",
          "state": {
            "_model_module": "@jupyter-widgets/base",
            "_model_module_version": "1.2.0",
            "_model_name": "LayoutModel",
            "_view_count": null,
            "_view_module": "@jupyter-widgets/base",
            "_view_module_version": "1.2.0",
            "_view_name": "LayoutView",
            "align_content": null,
            "align_items": null,
            "align_self": null,
            "border": null,
            "bottom": null,
            "display": null,
            "flex": null,
            "flex_flow": null,
            "grid_area": null,
            "grid_auto_columns": null,
            "grid_auto_flow": null,
            "grid_auto_rows": null,
            "grid_column": null,
            "grid_gap": null,
            "grid_row": null,
            "grid_template_areas": null,
            "grid_template_columns": null,
            "grid_template_rows": null,
            "height": null,
            "justify_content": null,
            "justify_items": null,
            "left": null,
            "margin": null,
            "max_height": null,
            "max_width": null,
            "min_height": null,
            "min_width": null,
            "object_fit": null,
            "object_position": null,
            "order": null,
            "overflow": null,
            "overflow_x": null,
            "overflow_y": null,
            "padding": null,
            "right": null,
            "top": null,
            "visibility": null,
            "width": null
          }
        },
        "f6303c906d8c47509297cc8882225020": {
          "model_module": "@jupyter-widgets/controls",
          "model_name": "DescriptionStyleModel",
          "model_module_version": "1.5.0",
          "state": {
            "_model_module": "@jupyter-widgets/controls",
            "_model_module_version": "1.5.0",
            "_model_name": "DescriptionStyleModel",
            "_view_count": null,
            "_view_module": "@jupyter-widgets/base",
            "_view_module_version": "1.2.0",
            "_view_name": "StyleView",
            "description_width": ""
          }
        }
      }
    },
    "accelerator": "GPU",
    "gpuClass": "standard"
  },
  "cells": [
    {
      "cell_type": "markdown",
      "metadata": {
        "id": "view-in-github",
        "colab_type": "text"
      },
      "source": [
        "<a href=\"https://colab.research.google.com/github/RCSchmelzle/ParallaxDisplay/blob/main/Copy_of_Copy_of_COMP664_Homework_5.ipynb\" target=\"_parent\"><img src=\"https://colab.research.google.com/assets/colab-badge.svg\" alt=\"Open In Colab\"/></a>"
      ]
    },
    {
      "cell_type": "markdown",
      "metadata": {
        "id": "VYovBDSbwfYD"
      },
      "source": [
        "# 1. Receptive field and parameter count (1 point)\n",
        "\n",
        "Recall that the *receptive field* refers to size of the region in the input that are visible to a given activation (or neuron) in a convolutional neural network. \"Visible\" here means that the values of those inputs affect the value of the activation. In all of the following questions, assume that the input image is arbitrarily large, so you don't need to worry about boundary effects or padding.\n",
        "\n",
        "1. Consider a convolutional network which consists of three convolutional layers, each with a filter size of 3x3, and a stride of 1x1. What is the receptive field size of one of the activations at the final output?\n",
        "1. What is the receptive field if the stride is 2x3 at each layer?\n",
        "1. What is the receptive field if the stride is 2x2 at each layer, and there is a 2x2 max-pooling layer with stride 2x2 after each convolutional layer?\n",
        "1. Assume that the input image has 3 channels, the three convolutional layers have 16, 32, and 64 channels respectively, and that there are no biases on any of the layers. How many parameters does the network have?"
      ]
    },
    {
      "cell_type": "markdown",
      "metadata": {
        "id": "T8t21JGZyUr-"
      },
      "source": [
        "# 2. CIFAR-10 classification (3 points)\n",
        "\n",
        "CIFAR-10 is a standard dataset where the goal is to classify 32 x 32 images into one of 10 classes. The goal of this problem is simple: build and train a convolutional neural network to perform classification on CIFAR-10. The problem is intentionally extremely open-ended! There are dozens (hundreds?) of tutorials online describing how to train a convnet on CIFAR-10 - please seek them out and make use of them. I recommend getting started with the [CIFAR-10 tutorial from PyTorch](https://colab.research.google.com/github/pytorch/tutorials/blob/gh-pages/_downloads/cifar10_tutorial.ipynb) which includes code for loading the dataset and evaluating performance on it. You are welcome to use any other resource that you want (but please cite it!) - as I mentioned there are many, many tutorials online, and googling for help is an utterly crucial skill for a researcher! You will be graded on the final test accuracy achieved by your model:\n",
        "\n",
        "- 60% accuracy or higher: 2/3 points\n",
        "- 75% accuracy or higher: 3/3 points\n",
        "- Highest accuracy in the class: 4/3 points!\n",
        "\n",
        "Note that in order for us to know the final performance of your model, you will need to implement a function that computes the accuracy of your model on the test set (which appears in both of the linked tutorials above). The only rules are: You can only train your model on the CIFAR-10 training set (i.e. you can't use pre-trained models or other datasets for additional training, and you certaintly can't train on the CIFAR-10 test set!), and you must train the model on the free Colab GPU or TPU. This means you can only train the model for an hour or so! This is *much* less compute than is typically used for training CIFAR-10 models. As such, this is as much an exercise in building an accurate model as it is in building an efficient one. This is a popular game to play, and to the best of my knowledge the state-of-the-art is [this approach](https://myrtle.ai/learn/how-to-train-your-resnet/) which attains 96% accuracy in only *26 seconds* on a single GPU! (note that the final link on that page is broken; it should be [this](https://myrtle.ai/learn/how-to-train-your-resnet-8-bag-of-tricks/)).\n",
        "\n",
        "There are lots of things you can try to make your model more accurate and/or more efficient:\n",
        "\n",
        "1. Deeper models\n",
        "1. Residual connections\n",
        "1. [Data augmentation and normalization](https://d2l.ai/chapter_computer-vision/kaggle-cifar10.html#image-augmentation)\n",
        "1. Regularization like dropout or weight decay\n",
        "1. [Learning rate schedules](https://d2l.ai/chapter_optimization/lr-scheduler.html)\n",
        "1. [Different forms of normalization](https://d2l.ai/chapter_convolutional-modern/batch-norm.html)\n",
        "\n",
        "Note that we haven't covered all these topics in class yet, but you should be able to get to at least 60% accuracy without applying all of these ideas - and probably 75% by tweaking around a little bit. Specifically, you should be able to get about 60% accuracy by taking the basic AlexNet architecture we discussed in class and applying it directly to CIFAR-10. And, if you're feeling adventurous, feel free to go for 96% using the aforementioned blog series! Good luck!"
      ]
    },
    {
      "cell_type": "code",
      "source": [
        "import torch\n",
        "import torchvision\n",
        "import torchvision.transforms as transforms\n",
        "\n",
        "device = torch.device(\"cuda:0\" if torch.cuda.is_available() else \"cpu\")\n",
        "print(device)\n",
        "# was more accurate without horizflip, colorjitter\n",
        "transform = transforms.Compose(\n",
        "    [transforms.ToTensor(),\n",
        "     transforms.RandomHorizontalFlip(p=0.5),\n",
        "     transforms.ColorJitter(saturation=(0.75,1.25),hue=(-0.3,0.3)),\n",
        "     transforms.Normalize((0.5, 0.5, 0.5), (0.5, 0.5, 0.5))])\n",
        "\n",
        "trainset = torchvision.datasets.CIFAR10(root='./data', train = True,\n",
        "                                        download = True, transform = transform)\n",
        "\n",
        "trainloader = torch.utils.data.DataLoader(trainset, batch_size=4, \n",
        "                                          shuffle=True, num_workers=2)\n",
        "\n",
        "testset = torchvision.datasets.CIFAR10(root='./data', train=False, \n",
        "                                       download=True, transform = transform)\n",
        "\n",
        "testloader = torch.utils.data.DataLoader(testset, batch_size=4, \n",
        "                                         shuffle=False, num_workers=2)\n",
        "\n",
        "classes = ('plane', 'car', 'bird', 'cat', 'deer', \n",
        "           'dog', 'frog', 'horse', 'ship', 'truck')\n",
        "\n"
      ],
      "metadata": {
        "id": "QnUnq7-bTvoT",
        "colab": {
          "base_uri": "https://localhost:8080/",
          "height": 138,
          "referenced_widgets": [
            "b98c5f11cccc4305ba21ccd122ebd946",
            "d9e65d6eefbd432db6f69b728f0fb7de",
            "7f7d20b8b1ef49beb8ee49526505dd2d",
            "0f15229c99694617b60fab8204841514",
            "5a149186cd3e4b6a9eb9f4d2e333510e",
            "7b27d0b95bc64c4ebafe9cdb72c1d198",
            "944a368b713942eba3b49a11eff68c7c",
            "978c5a7621694edb98d1d51e88a86483",
            "5cfd1562db7c488fa369e111cfb91ace",
            "7f7861f431cb46689145cb2a68be849e",
            "f6303c906d8c47509297cc8882225020"
          ]
        },
        "outputId": "d325b37e-0b0b-4767-9217-e27a116c74b9"
      },
      "execution_count": 1,
      "outputs": [
        {
          "output_type": "stream",
          "name": "stdout",
          "text": [
            "cuda:0\n",
            "Downloading https://www.cs.toronto.edu/~kriz/cifar-10-python.tar.gz to ./data/cifar-10-python.tar.gz\n"
          ]
        },
        {
          "output_type": "display_data",
          "data": {
            "text/plain": [
              "  0%|          | 0/170498071 [00:00<?, ?it/s]"
            ],
            "application/vnd.jupyter.widget-view+json": {
              "version_major": 2,
              "version_minor": 0,
              "model_id": "b98c5f11cccc4305ba21ccd122ebd946"
            }
          },
          "metadata": {}
        },
        {
          "output_type": "stream",
          "name": "stdout",
          "text": [
            "Extracting ./data/cifar-10-python.tar.gz to ./data\n",
            "Files already downloaded and verified\n"
          ]
        }
      ]
    },
    {
      "cell_type": "code",
      "source": [
        "import matplotlib.pyplot as plt\n",
        "import numpy as np\n",
        "\n",
        "def imshow(img):\n",
        "  img = img/2 + 0.5\n",
        "  np_img = img.numpy()\n",
        "  plt.imshow(np.transpose(np_img, (1,2,0)))\n",
        "\n",
        "images, labels = next(iter(trainloader))\n",
        "\n",
        "imshow(torchvision.utils.make_grid(images))\n",
        "print(' '.join('%5s' % classes[labels[j]] for j in range(4)))\n",
        "\n",
        "  "
      ],
      "metadata": {
        "id": "nAjPlGroVyEh",
        "colab": {
          "base_uri": "https://localhost:8080/",
          "height": 155
        },
        "outputId": "fb9652d3-4431-4fed-f985-0691ad711bee"
      },
      "execution_count": 2,
      "outputs": [
        {
          "output_type": "stream",
          "name": "stdout",
          "text": [
            "  car  frog  deer  deer\n"
          ]
        },
        {
          "output_type": "display_data",
          "data": {
            "text/plain": [
              "<Figure size 432x288 with 1 Axes>"
            ],
            "image/png": "[encoded data removed]"
          },
          "metadata": {
            "needs_background": "light"
          }
        }
      ]
    },
    {
      "cell_type": "code",
      "source": [
        "import torch.nn as nn\n",
        "import torch.nn.functional as F\n",
        "\n",
        "class Net(nn.Module):\n",
        "\n",
        "\n",
        "  def __init__(self):\n",
        "    super(Net, self).__init__()\n",
        "\n",
        "    self.w1 = 64  # intitlaly 6\n",
        "    self.w2 = 64  # intitlaly 16\n",
        "\n",
        "    self.pool = nn.MaxPool2d(2,2)\n",
        "    self.conv1 = nn.Conv2d(3,self.w1,5)\n",
        "    self.conv2 = nn.Conv2d(self.w1,self.w2,5)\n",
        "    \n",
        "    self.fc1 = nn.Linear(self.w2*5*5,120)\n",
        "    self.fc2  = nn.Linear(120, 84)\n",
        "    self.fc3 = nn.Linear(84, 84)\n",
        "    self.fc4 = nn.Linear(84, 84)\n",
        "    self.fc5 = nn.Linear(84, 10)\n",
        "\n",
        "    self.BatchNorm2d1 = nn.BatchNorm2d(self.w1)\n",
        "    self.BatchNorm2d2 = nn.BatchNorm2d(self.w2)\n",
        "\n",
        "    self.dropout = nn.Dropout(p = 0.5)\n",
        "\n",
        "\n",
        "  def forward(self, x):\n",
        "    x = self.BatchNorm2d1(self.pool(F.relu(self.conv1(x))))\n",
        "    x = self.BatchNorm2d1(self.pool(F.relu(self.conv2(x))))\n",
        "    x = x.view(-1, self.w2*5*5)\n",
        "    x = F.leaky_relu(self.fc1(x))\n",
        "    x = self.dropout(F.relu(self.fc2(x)))\n",
        "    x = self.dropout(F.relu(self.fc3(x)))\n",
        "    x = self.dropout(F.relu(self.fc4(x)))\n",
        "\n",
        "    #x = self.dropout(F.relu(self.fc3))\n",
        "    x = self.fc4(x)\n",
        "    return x\n",
        "\n",
        "    \n",
        "  \n",
        "net = Net()\n",
        "net = net.to(device)\n",
        "print(net)"
      ],
      "metadata": {
        "id": "7i4DlOuzWn4J",
        "colab": {
          "base_uri": "https://localhost:8080/"
        },
        "outputId": "849a11b6-7186-4194-c7c1-963c2023c976"
      },
      "execution_count": 3,
      "outputs": [
        {
          "output_type": "stream",
          "name": "stdout",
          "text": [
            "Net(\n",
            "  (pool): MaxPool2d(kernel_size=2, stride=2, padding=0, dilation=1, ceil_mode=False)\n",
            "  (conv1): Conv2d(3, 64, kernel_size=(5, 5), stride=(1, 1))\n",
            "  (conv2): Conv2d(64, 64, kernel_size=(5, 5), stride=(1, 1))\n",
            "  (fc1): Linear(in_features=1600, out_features=120, bias=True)\n",
            "  (fc2): Linear(in_features=120, out_features=84, bias=True)\n",
            "  (fc3): Linear(in_features=84, out_features=84, bias=True)\n",
            "  (fc4): Linear(in_features=84, out_features=84, bias=True)\n",
            "  (fc5): Linear(in_features=84, out_features=10, bias=True)\n",
            "  (BatchNorm2d1): BatchNorm2d(64, eps=1e-05, momentum=0.1, affine=True, track_running_stats=True)\n",
            "  (BatchNorm2d2): BatchNorm2d(64, eps=1e-05, momentum=0.1, affine=True, track_running_stats=True)\n",
            "  (dropout): Dropout(p=0.5, inplace=False)\n",
            ")\n"
          ]
        }
      ]
    },
    {
      "cell_type": "code",
      "source": [
        "import torch.optim as optim\n",
        "\n",
        "criterion = nn.CrossEntropyLoss()\n",
        "optimizer = optim.SGD(net.parameters(), lr = 0.001, momentum = 0.9)\n",
        "#optimizer = optim.Adam(net.parameters(), lr=0.001)\n",
        "# maybe try adam"
      ],
      "metadata": {
        "id": "bTvM4V-qX52l"
      },
      "execution_count": 4,
      "outputs": []
    },
    {
      "cell_type": "code",
      "source": [
        "\n",
        "\n",
        "for epoch in range(20):\n",
        "  running_loss = 0\n",
        "  for i, data in enumerate(trainloader, 0):\n",
        "    inputs, labels = data\n",
        "    inputs, labels = inputs.to(device), labels.to(device)\n",
        "    \n",
        "    optimizer.zero_grad()\n",
        "\n",
        "    outputs = net(inputs)\n",
        "\n",
        "    loss = criterion(outputs, labels)\n",
        "    loss.backward()\n",
        "\n",
        "    optimizer.step()\n",
        "\n",
        "    running_loss += loss.item()\n",
        "    if i%2000 == 1999:\n",
        "      print('[%d, %5d] loss:%.3f' %\n",
        "            (epoch+1, i+1, running_loss/2000))\n",
        "      running_loss = 0.0\n",
        "\n",
        "print(\"Finished Training\")\n",
        "#not sure if better with adam or not"
      ],
      "metadata": {
        "id": "toNr0gGxT9H5",
        "colab": {
          "base_uri": "https://localhost:8080/"
        },
        "outputId": "921b5ed4-9fd0-48eb-ab2d-f120d38e8d17"
      },
      "execution_count": 5,
      "outputs": [
        {
          "output_type": "stream",
          "name": "stdout",
          "text": [
            "[1,  2000] loss:2.668\n",
            "[1,  4000] loss:2.130\n",
            "[1,  6000] loss:2.029\n",
            "[1,  8000] loss:1.944\n",
            "[1, 10000] loss:1.876\n",
            "[1, 12000] loss:1.832\n",
            "[2,  2000] loss:1.772\n",
            "[2,  4000] loss:1.734\n",
            "[2,  6000] loss:1.686\n",
            "[2,  8000] loss:1.673\n",
            "[2, 10000] loss:1.647\n",
            "[2, 12000] loss:1.607\n",
            "[3,  2000] loss:1.548\n",
            "[3,  4000] loss:1.553\n",
            "[3,  6000] loss:1.544\n",
            "[3,  8000] loss:1.497\n",
            "[3, 10000] loss:1.466\n",
            "[3, 12000] loss:1.484\n",
            "[4,  2000] loss:1.423\n",
            "[4,  4000] loss:1.409\n",
            "[4,  6000] loss:1.412\n",
            "[4,  8000] loss:1.370\n",
            "[4, 10000] loss:1.392\n",
            "[4, 12000] loss:1.362\n",
            "[5,  2000] loss:1.339\n",
            "[5,  4000] loss:1.337\n",
            "[5,  6000] loss:1.309\n",
            "[5,  8000] loss:1.310\n",
            "[5, 10000] loss:1.283\n",
            "[5, 12000] loss:1.290\n",
            "[6,  2000] loss:1.260\n",
            "[6,  4000] loss:1.278\n",
            "[6,  6000] loss:1.244\n",
            "[6,  8000] loss:1.243\n",
            "[6, 10000] loss:1.249\n",
            "[6, 12000] loss:1.251\n",
            "[7,  2000] loss:1.180\n",
            "[7,  4000] loss:1.203\n",
            "[7,  6000] loss:1.215\n",
            "[7,  8000] loss:1.223\n",
            "[7, 10000] loss:1.181\n",
            "[7, 12000] loss:1.178\n",
            "[8,  2000] loss:1.157\n",
            "[8,  4000] loss:1.180\n",
            "[8,  6000] loss:1.159\n",
            "[8,  8000] loss:1.149\n",
            "[8, 10000] loss:1.149\n",
            "[8, 12000] loss:1.170\n",
            "[9,  2000] loss:1.109\n",
            "[9,  4000] loss:1.129\n",
            "[9,  6000] loss:1.109\n",
            "[9,  8000] loss:1.095\n",
            "[9, 10000] loss:1.132\n",
            "[9, 12000] loss:1.125\n",
            "[10,  2000] loss:1.095\n",
            "[10,  4000] loss:1.066\n",
            "[10,  6000] loss:1.105\n",
            "[10,  8000] loss:1.130\n",
            "[10, 10000] loss:1.085\n",
            "[10, 12000] loss:1.112\n",
            "[11,  2000] loss:1.068\n",
            "[11,  4000] loss:1.050\n",
            "[11,  6000] loss:1.079\n",
            "[11,  8000] loss:1.086\n",
            "[11, 10000] loss:1.050\n",
            "[11, 12000] loss:1.031\n",
            "[12,  2000] loss:1.022\n",
            "[12,  4000] loss:1.008\n",
            "[12,  6000] loss:1.013\n",
            "[12,  8000] loss:1.031\n",
            "[12, 10000] loss:1.041\n",
            "[12, 12000] loss:1.049\n",
            "[13,  2000] loss:1.016\n",
            "[13,  4000] loss:1.007\n",
            "[13,  6000] loss:0.999\n",
            "[13,  8000] loss:1.001\n",
            "[13, 10000] loss:1.018\n",
            "[13, 12000] loss:1.011\n",
            "[14,  2000] loss:0.978\n",
            "[14,  4000] loss:0.987\n",
            "[14,  6000] loss:1.006\n",
            "[14,  8000] loss:1.006\n",
            "[14, 10000] loss:1.025\n",
            "[14, 12000] loss:0.988\n",
            "[15,  2000] loss:0.977\n",
            "[15,  4000] loss:0.966\n",
            "[15,  6000] loss:0.964\n",
            "[15,  8000] loss:0.972\n",
            "[15, 10000] loss:0.959\n",
            "[15, 12000] loss:0.976\n",
            "[16,  2000] loss:0.946\n",
            "[16,  4000] loss:0.962\n",
            "[16,  6000] loss:0.951\n",
            "[16,  8000] loss:0.964\n",
            "[16, 10000] loss:0.943\n",
            "[16, 12000] loss:0.951\n",
            "[17,  2000] loss:0.926\n",
            "[17,  4000] loss:0.928\n",
            "[17,  6000] loss:0.910\n",
            "[17,  8000] loss:0.914\n",
            "[17, 10000] loss:0.954\n",
            "[17, 12000] loss:0.952\n",
            "[18,  2000] loss:0.922\n",
            "[18,  4000] loss:0.908\n",
            "[18,  6000] loss:0.905\n",
            "[18,  8000] loss:0.936\n",
            "[18, 10000] loss:0.934\n",
            "[18, 12000] loss:0.917\n",
            "[19,  2000] loss:0.900\n",
            "[19,  4000] loss:0.876\n",
            "[19,  6000] loss:0.910\n",
            "[19,  8000] loss:0.924\n",
            "[19, 10000] loss:0.887\n",
            "[19, 12000] loss:0.952\n",
            "[20,  2000] loss:0.868\n",
            "[20,  4000] loss:0.918\n",
            "[20,  6000] loss:0.882\n",
            "[20,  8000] loss:0.924\n",
            "[20, 10000] loss:0.910\n",
            "[20, 12000] loss:0.903\n",
            "Finished Training\n"
          ]
        }
      ]
    },
    {
      "cell_type": "code",
      "source": [
        "images, labels = next(iter(testloader))\n",
        "imshow(torchvision.utils.make_grid(images))\n",
        "\n",
        "images, labels = images.to(device), labels.to(device)\n",
        "print('GT: ', ' '.join('%5s' % classes[labels[j]] for j in range(4)))\n"
      ],
      "metadata": {
        "id": "P01PW1l9Y3G-",
        "colab": {
          "base_uri": "https://localhost:8080/",
          "height": 155
        },
        "outputId": "a3974ce3-d7b8-498e-9e50-c726b6b8fcef"
      },
      "execution_count": 9,
      "outputs": [
        {
          "output_type": "stream",
          "name": "stdout",
          "text": [
            "GT:    cat  ship  ship plane\n"
          ]
        },
        {
          "output_type": "display_data",
          "data": {
            "text/plain": [
              "<Figure size 432x288 with 1 Axes>"
            ],
            "image/png": "[encoded data removed]"
          },
          "metadata": {
            "needs_background": "light"
          }
        }
      ]
    },
    {
      "cell_type": "code",
      "source": [
        "outputs = net(images)\n",
        "_, predicted = torch.max(outputs, 1)\n",
        "print('Predicted: ', ' '.join('%5s' % classes[predicted[j]] for j in range(4)))"
      ],
      "metadata": {
        "id": "jQDsqRN4aLYm",
        "colab": {
          "base_uri": "https://localhost:8080/"
        },
        "outputId": "7c789f5f-392a-4b8e-d1e7-143a505f103a"
      },
      "execution_count": 10,
      "outputs": [
        {
          "output_type": "stream",
          "name": "stdout",
          "text": [
            "Predicted:    cat   car  ship plane\n"
          ]
        }
      ]
    },
    {
      "cell_type": "code",
      "source": [
        "correct = 0\n",
        "total = 0\n",
        "\n",
        "with torch.no_grad():\n",
        "  for data in testloader:\n",
        "    images, labels = data\n",
        "    images, labels = images.to(device), labels.to(device)\n",
        "    outputs = net(images)\n",
        "\n",
        "    _,predicted = torch.max(outputs.data, 1)\n",
        "\n",
        "    total += labels.size(0)\n",
        "    correct += (predicted == labels).sum().item()\n",
        "accuracy =(100*correct/total)\n",
        "print(\"Accuracy on test images: {0}%\".format(accuracy))"
      ],
      "metadata": {
        "id": "qUrVKB9Xb4ov",
        "colab": {
          "base_uri": "https://localhost:8080/"
        },
        "outputId": "b970b51e-1ebb-4c2a-f9b4-ea4e334128ed"
      },
      "execution_count": 12,
      "outputs": [
        {
          "output_type": "stream",
          "name": "stdout",
          "text": [
            "Accuracy on test images: 67.57%\n"
          ]
        }
      ]
    },
    {
      "cell_type": "markdown",
      "source": [
        "Works cited:\n",
        "\n",
        "Heavily relied on the [linked CIFAR-10 Tutorial\n",
        "](https://colab.research.google.com/github/pytorch/tutorials/blob/gh-pages/_downloads/cifar10_tutorial.ipynb#scrollTo=5freH-y0Sqqk) to structure the project setup and initial attempts at the network\n",
        "\n",
        "Used [another implementaiton](https://gist.github.com/quickgrid/2f0c61653ed996766b89c420324f735b) for reference on setting up GPU training\n",
        "\n",
        "[Data Augmentation Resource 1](https://www.tutorialspoint.com/pytorch-randomly-change-the-brightness-contrast-saturation-and-hue-of-an-image)\n",
        "\n",
        "[Data Augmentation Resource 2](https://pytorch.org/vision/main/transforms.html)\n"
      ],
      "metadata": {
        "id": "EgixR4OznONS"
      }
    },
    {
      "cell_type": "code",
      "source": [],
      "metadata": {
        "id": "h1ipp1Ss1V3R"
      },
      "execution_count": 8,
      "outputs": []
    }
  ]
}